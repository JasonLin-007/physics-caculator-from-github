{
  "nbformat": 4,
  "nbformat_minor": 0,
  "metadata": {
    "colab": {
      "provenance": [],
      "authorship_tag": "ABX9TyMYs4uWbHFq89KSM5FgAX8Q",
      "include_colab_link": true
    },
    "kernelspec": {
      "name": "python3",
      "display_name": "Python 3"
    },
    "language_info": {
      "name": "python"
    }
  },
  "cells": [
    {
      "cell_type": "markdown",
      "metadata": {
        "id": "view-in-github",
        "colab_type": "text"
      },
      "source": [
        "<a href=\"https://colab.research.google.com/github/JasonLin-007/physics-caculator-from-github/blob/main/elastic_collision_caculator_(for_two_balls).ipynb\" target=\"_parent\"><img src=\"https://colab.research.google.com/assets/colab-badge.svg\" alt=\"Open In Colab\"/></a>"
      ]
    },
    {
      "cell_type": "code",
      "execution_count": 1,
      "metadata": {
        "colab": {
          "base_uri": "https://localhost:8080/"
        },
        "id": "-7S7FY7pXvPT",
        "outputId": "eee94732-38e8-453d-dc4a-706c386677f3"
      },
      "outputs": [
        {
          "output_type": "stream",
          "name": "stdout",
          "text": [
            "This is a caculator for elastic collision\n"
          ]
        }
      ],
      "source": [
        "print(\"This is a caculator for elastic collision\")"
      ]
    },
    {
      "cell_type": "code",
      "source": [
        "#input\n",
        "mfast = eval(input(\"input the mass of the faster ball(kg):\"))\n",
        "vfast = eval(input(\"input the velocity of the faster ball(m/s):\"))\n",
        "mslow = eval(input(\"input the mass of the slower ball(kg):\"))\n",
        "vslow = eval(input(\"input the velocity of the slower ball(m/s):\"))"
      ],
      "metadata": {
        "colab": {
          "base_uri": "https://localhost:8080/"
        },
        "id": "rRZEiM-GX5ro",
        "outputId": "db5937ca-6f5a-461b-d282-5fe9c982ae86"
      },
      "execution_count": 2,
      "outputs": [
        {
          "name": "stdout",
          "output_type": "stream",
          "text": [
            "input the mass of the faster ball(kg):1\n",
            "input the velocity of the faster ball(m/s):2\n",
            "input the mass of the slower ball(kg):2\n",
            "input the velocity of the slower ball(m/s):1\n"
          ]
        }
      ]
    },
    {
      "cell_type": "code",
      "source": [
        "#caculate ki\n",
        "msum = mfast+mslow\n",
        "ki = mfast*mslow/msum*((vfast-vslow)**2) /2\n",
        "print(\"\\ninternal kinetic energy = %f J\" % ki)"
      ],
      "metadata": {
        "colab": {
          "base_uri": "https://localhost:8080/"
        },
        "id": "J7_cEw_HX8nO",
        "outputId": "81d06c9b-a1c1-4614-e1a5-cecadc3260e8"
      },
      "execution_count": 3,
      "outputs": [
        {
          "output_type": "stream",
          "name": "stdout",
          "text": [
            "\n",
            "internal kinetic energy = 0.333333 J\n"
          ]
        }
      ]
    },
    {
      "cell_type": "code",
      "source": [
        "#caculate the velocity after collision\n",
        "vfastafter = ((mfast-mslow)*vfast+2*mslow*vslow)/msum\n",
        "vslowafter = ((mslow-mfast)*vslow+2*mfast*vfast)/msum\n",
        "print(\"velocity of the faster ball after cllision = %f m/s\" % vfast)\n",
        "print(\"velocity of the slower ball after cllision = %f m/s\" % vslow)"
      ],
      "metadata": {
        "colab": {
          "base_uri": "https://localhost:8080/"
        },
        "id": "LlB3CfxCX-wm",
        "outputId": "fc7fc158-715f-4117-b34a-f67841fdfe41"
      },
      "execution_count": 4,
      "outputs": [
        {
          "output_type": "stream",
          "name": "stdout",
          "text": [
            "velocity of the faster ball after cllision = 0.666667 m/s\n",
            "velocity of the slower ball after cllision = 0.777778 m/s\n"
          ]
        }
      ]
    }
  ]
}